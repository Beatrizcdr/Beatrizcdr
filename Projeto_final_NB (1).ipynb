{
 "cells": [
  {
   "cell_type": "markdown",
   "metadata": {},
   "source": [
    "# Predição de regiões promotores (Bacillus subtilis) com Naive Bayes"
   ]
  },
  {
   "cell_type": "markdown",
   "metadata": {},
   "source": [
    "# Importação das bibliotecas e módulos do Python"
   ]
  },
  {
   "cell_type": "code",
   "execution_count": 48,
   "metadata": {},
   "outputs": [],
   "source": [
    "import numpy as np\n",
    "import re\n",
    "import pandas as pd\n",
    "import collections\n",
    "import matplotlib.pyplot as plt\n",
    "import seaborn as sb\n",
    "from sklearn import datasets\n",
    "from sklearn.preprocessing import LabelEncoder\n",
    "from sklearn.model_selection import train_test_split\n",
    "from sklearn.model_selection import GridSearchCV\n",
    "from sklearn.feature_extraction.text import CountVectorizer\n",
    "from sklearn.naive_bayes import MultinomialNB\n",
    "from sklearn.metrics import accuracy_score\n",
    "from sklearn.metrics import plot_confusion_matrix"
   ]
  },
  {
   "cell_type": "markdown",
   "metadata": {},
   "source": [
    "# Importação do conjunto de dados"
   ]
  },
  {
   "cell_type": "code",
   "execution_count": 41,
   "metadata": {},
   "outputs": [],
   "source": [
    "atributos = ['Sequencia', 'Classe']\n",
    "df = pd.read_csv('promotores_bd.csv', names=atributos)"
   ]
  },
  {
   "cell_type": "markdown",
   "metadata": {},
   "source": [
    "# Pré processamento do conjunto de dados"
   ]
  },
  {
   "cell_type": "code",
   "execution_count": 13,
   "metadata": {},
   "outputs": [],
   "source": [
    "# Definição da função para a conversão de sequências do tipo string em k-mers (hexâmeros)\n",
    "def getKmers(Sequencia, size=6):\n",
    "    return [Sequencia[x:x+size].lower() for x in range(len(Sequencia) - size + 1)]"
   ]
  },
  {
   "cell_type": "code",
   "execution_count": 14,
   "metadata": {},
   "outputs": [],
   "source": [
    "# Conversão das sequências do conjunto de dados em k-mers usando a função getKmers: \n",
    "\n",
    "df['words'] = df.apply(lambda x: getKmers(x['Sequencia']), axis=1)\n",
    "df = df.drop('Sequencia', axis=1)"
   ]
  },
  {
   "cell_type": "code",
   "execution_count": 15,
   "metadata": {},
   "outputs": [
    {
     "data": {
      "text/html": [
       "<div>\n",
       "<style scoped>\n",
       "    .dataframe tbody tr th:only-of-type {\n",
       "        vertical-align: middle;\n",
       "    }\n",
       "\n",
       "    .dataframe tbody tr th {\n",
       "        vertical-align: top;\n",
       "    }\n",
       "\n",
       "    .dataframe thead th {\n",
       "        text-align: right;\n",
       "    }\n",
       "</style>\n",
       "<table border=\"1\" class=\"dataframe\">\n",
       "  <thead>\n",
       "    <tr style=\"text-align: right;\">\n",
       "      <th></th>\n",
       "      <th>Classe</th>\n",
       "      <th>words</th>\n",
       "    </tr>\n",
       "  </thead>\n",
       "  <tbody>\n",
       "    <tr>\n",
       "      <th>0</th>\n",
       "      <td>+</td>\n",
       "      <td>[cgctct, gctcta, ctctat, tctatc, ctatcc, tatcc...</td>\n",
       "    </tr>\n",
       "    <tr>\n",
       "      <th>1</th>\n",
       "      <td>+</td>\n",
       "      <td>[gtttcc, tttccc, ttccct, tccctt, ccctta, cctta...</td>\n",
       "    </tr>\n",
       "    <tr>\n",
       "      <th>2</th>\n",
       "      <td>+</td>\n",
       "      <td>[ggtccg, gtccgt, tccgtt, ccgttt, cgtttt, gtttt...</td>\n",
       "    </tr>\n",
       "    <tr>\n",
       "      <th>3</th>\n",
       "      <td>+</td>\n",
       "      <td>[gtatat, tatata, atatat, tatatt, atatta, tatta...</td>\n",
       "    </tr>\n",
       "    <tr>\n",
       "      <th>4</th>\n",
       "      <td>+</td>\n",
       "      <td>[aatagt, atagtt, tagtta, agttat, gttatc, ttatc...</td>\n",
       "    </tr>\n",
       "  </tbody>\n",
       "</table>\n",
       "</div>"
      ],
      "text/plain": [
       "  Classe                                              words\n",
       "0      +  [cgctct, gctcta, ctctat, tctatc, ctatcc, tatcc...\n",
       "1      +  [gtttcc, tttccc, ttccct, tccctt, ccctta, cctta...\n",
       "2      +  [ggtccg, gtccgt, tccgtt, ccgttt, cgtttt, gtttt...\n",
       "3      +  [gtatat, tatata, atatat, tatatt, atatta, tatta...\n",
       "4      +  [aatagt, atagtt, tagtta, agttat, gttatc, ttatc..."
      ]
     },
     "execution_count": 15,
     "metadata": {},
     "output_type": "execute_result"
    }
   ],
   "source": [
    "df.head()"
   ]
  },
  {
   "cell_type": "code",
   "execution_count": 17,
   "metadata": {},
   "outputs": [
    {
     "data": {
      "text/plain": [
       "'cgctct gctcta ctctat tctatc ctatcc tatcct atcctg tcctgg cctggg ctgggt tgggtt gggttt ggtttt gttttt tttttg ttttgg tttggc ttggct tggctg ggctgt gctgtg ctgtgc tgtgcc gtgcca tgccaa gccaaa ccaaaa caaaag aaaagg aaaggg aaggga agggaa gggaat ggaata gaataa aataat ataatg taatga aatgaa atgaaa tgaaaa gaaaaa aaaaac aaaaca aaacaa aacaat acaata caatag aatagc atagca tagcat agcatc gcatct catctt atcttt tctttg ctttgt tttgtg ttgtga tgtgaa gtgaag tgaagt gaagtt aagttt agtttg gtttgt tttgta ttgtat tgtatt gtatta tattat attata ttataa tataat ataata taataa'"
      ]
     },
     "execution_count": 17,
     "metadata": {},
     "output_type": "execute_result"
    }
   ],
   "source": [
    "# Conversão das listas de k-mers geradas em cadeias de palavras para que o vetorizador de contagem posse usar:\n",
    "\n",
    "seq_textos = list(df['words'])\n",
    "for item in range(len(seq_textos)):\n",
    "    seq_textos[item] = ' '.join(seq_textos[item])\n",
    "y = df.iloc[:, 0].values    \n",
    "\n",
    "# Verificação da conversão:\n",
    "\n",
    "seq_textos[0]"
   ]
  },
  {
   "cell_type": "code",
   "execution_count": 20,
   "metadata": {},
   "outputs": [
    {
     "name": "stdout",
     "output_type": "stream",
     "text": [
      "antes: ['+' '+' '+' '+' '+' '-' '-' '-' '-' '-']\n",
      "depois: [0 0 0 0 0 1 1 1 1 1]\n"
     ]
    }
   ],
   "source": [
    "# Conversão dos valores dos rótulos de classe para a tarefa de classificação:\n",
    "\n",
    "novo_y = LabelEncoder().fit_transform(y)\n",
    "print(\"antes:\", df[\"Classe\"].values[265:275])\n",
    "print(\"depois:\", novo_y[265:275])"
   ]
  },
  {
   "cell_type": "code",
   "execution_count": 23,
   "metadata": {},
   "outputs": [
    {
     "name": "stdout",
     "output_type": "stream",
     "text": [
      "(540, 31589)\n"
     ]
    }
   ],
   "source": [
    "# Conversão das palavras k-mer em vetores numéricos de comprimento uniforme:\n",
    "# Construção da Sacola de Palavras com CountVectorizer()\n",
    "\n",
    "cv = CountVectorizer(ngram_range=(4,4))\n",
    "X = cv.fit_transform(seq_textos)\n",
    "print(X.shape)"
   ]
  },
  {
   "cell_type": "markdown",
   "metadata": {},
   "source": [
    "# Construção e treinamento do algoritmo Naive Bayes"
   ]
  },
  {
   "cell_type": "markdown",
   "metadata": {},
   "source": [
    "# Conjunto de treinamento = 80% dos dados\n",
    "Divisão do conjunto de dados em conjunto de treinamento (80%) e conjunto de teste (20%):"
   ]
  },
  {
   "cell_type": "code",
   "execution_count": 42,
   "metadata": {},
   "outputs": [],
   "source": [
    "# Para o processo pseudo-aleatório de divisão dos grupos, a semente foi fixada em 0.\n",
    "\n",
    "X_train, X_test, Y_train, Y_test = train_test_split(X, novo_y, test_size = 0.2, random_state = 0)"
   ]
  },
  {
   "cell_type": "code",
   "execution_count": 43,
   "metadata": {},
   "outputs": [
    {
     "name": "stdout",
     "output_type": "stream",
     "text": [
      "(Quantidade de exemplos, quantidade de atributos) dos conjuntos de treinamento e teste: \n"
     ]
    },
    {
     "data": {
      "text/plain": [
       "((432, 31589), (108, 31589))"
      ]
     },
     "execution_count": 43,
     "metadata": {},
     "output_type": "execute_result"
    }
   ],
   "source": [
    "print(\"(Quantidade de exemplos, quantidade de atributos) dos conjuntos de treinamento e teste: \")\n",
    "X_train.shape, X_test.shape"
   ]
  },
  {
   "cell_type": "code",
   "execution_count": 44,
   "metadata": {},
   "outputs": [
    {
     "name": "stdout",
     "output_type": "stream",
     "text": [
      "(Quantidade de rótulos) dos conjuntos de treinamento e teste: \n"
     ]
    },
    {
     "data": {
      "text/plain": [
       "((432,), (108,))"
      ]
     },
     "execution_count": 44,
     "metadata": {},
     "output_type": "execute_result"
    }
   ],
   "source": [
    "print(\"(Quantidade de rótulos) dos conjuntos de treinamento e teste: \")\n",
    "Y_train.shape, Y_test.shape"
   ]
  },
  {
   "cell_type": "markdown",
   "metadata": {},
   "source": [
    "# Aprimoramento dos parâmetros"
   ]
  },
  {
   "cell_type": "code",
   "execution_count": 32,
   "metadata": {},
   "outputs": [
    {
     "name": "stdout",
     "output_type": "stream",
     "text": [
      "Fitting 5 folds for each of 9 candidates, totalling 45 fits\n"
     ]
    },
    {
     "name": "stderr",
     "output_type": "stream",
     "text": [
      "[Parallel(n_jobs=-1)]: Using backend LokyBackend with 4 concurrent workers.\n",
      "[Parallel(n_jobs=-1)]: Done  45 out of  45 | elapsed:    0.5s finished\n"
     ]
    },
    {
     "data": {
      "text/plain": [
       "GridSearchCV(estimator=MultinomialNB(), n_jobs=-1,\n",
       "             param_grid={'alpha': [0.1, 0.2, 0.3, 0.4, 0.5, 0.6, 0.7, 0.8,\n",
       "                                   0.9]},\n",
       "             verbose=1)"
      ]
     },
     "execution_count": 32,
     "metadata": {},
     "output_type": "execute_result"
    }
   ],
   "source": [
    "# Busca pelos parâmetros mais adequados para a classificação pelo algoritmo Naive Bayes Multinomial:\n",
    "\n",
    "parameters = {'alpha': [0.1, 0.2, 0.3, 0.4, 0.5, 0.6, 0.7, 0.8, 0.9]}\n",
    "\n",
    "search = GridSearchCV(MultinomialNB(), parameters, n_jobs=-1, verbose=1)\n",
    "search.fit(X_train, Y_train)"
   ]
  },
  {
   "cell_type": "code",
   "execution_count": 33,
   "metadata": {},
   "outputs": [
    {
     "name": "stdout",
     "output_type": "stream",
     "text": [
      "O parâmetro mais adequado foi: MultinomialNB(alpha=0.9)\n"
     ]
    }
   ],
   "source": [
    "melhor_parametro = search.best_estimator_\n",
    "print (\"O parâmetro mais adequado foi:\", melhor_parametro)"
   ]
  },
  {
   "cell_type": "code",
   "execution_count": 39,
   "metadata": {},
   "outputs": [
    {
     "name": "stdout",
     "output_type": "stream",
     "text": [
      "A acurácia obtida durante o treinamento foi: 1.0\n"
     ]
    }
   ],
   "source": [
    "# Treinamento do classificador:\n",
    "\n",
    "classificador = MultinomialNB(alpha=0.9)\n",
    "classificador.fit(X_train, Y_train)\n",
    "\n",
    "# Avaliação da acurácia obtida pelo clasificador durante o treinamento:\n",
    "\n",
    "y_pred = classificador.predict(X_train)\n",
    "acuracia = accuracy_score(Y_train, y_pred)\n",
    "print (\"A acurácia obtida durante o treinamento foi:\", acuracia)"
   ]
  },
  {
   "cell_type": "markdown",
   "metadata": {},
   "source": [
    "# Predição pelo algoritmo Naive Bayes"
   ]
  },
  {
   "cell_type": "code",
   "execution_count": 40,
   "metadata": {},
   "outputs": [
    {
     "name": "stdout",
     "output_type": "stream",
     "text": [
      "A acurácia obtida durante o treinamento foi: 0.6759259259259259\n"
     ]
    }
   ],
   "source": [
    "# Prediçao e avaliação da acurácia obtida pelo clasificador utilizando o conjunto de teste:\n",
    "\n",
    "y_pred2 = classificador.predict(X_test)\n",
    "acuracia2 = accuracy_score(Y_test, y_pred2)\n",
    "print (\"A acurácia obtida durante o treinamento foi:\", acuracia2)"
   ]
  },
  {
   "cell_type": "code",
   "execution_count": 47,
   "metadata": {},
   "outputs": [
    {
     "name": "stdout",
     "output_type": "stream",
     "text": [
      "[[39 11]\n",
      " [24 34]]\n"
     ]
    },
    {
     "data": {
      "image/png": "[encoded data removed]",
      "text/plain": [
       "<Figure size 432x288 with 2 Axes>"
      ]
     },
     "metadata": {
      "needs_background": "light"
     },
     "output_type": "display_data"
    }
   ],
   "source": [
    "disp = plot_confusion_matrix (classificador, X_test, Y_test, display_labels=class_names,cmap=plt.cm.Blues)\n",
    "\n",
    "print(disp.confusion_matrix)\n",
    "plt.show()"
   ]
  },
  {
   "cell_type": "code",
   "execution_count": null,
   "metadata": {},
   "outputs": [],
   "source": []
  }
 ],
 "metadata": {
  "kernelspec": {
   "display_name": "Python 3",
   "language": "python",
   "name": "python3"
  },
  "language_info": {
   "codemirror_mode": {
    "name": "ipython",
    "version": 3
   },
   "file_extension": ".py",
   "mimetype": "text/x-python",
   "name": "python",
   "nbconvert_exporter": "python",
   "pygments_lexer": "ipython3",
   "version": "3.8.3"
  }
 },
 "nbformat": 4,
 "nbformat_minor": 4
}
